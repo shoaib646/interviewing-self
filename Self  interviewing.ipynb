{
 "cells": [
  {
   "cell_type": "markdown",
   "metadata": {},
   "source": [
    "## count character"
   ]
  },
  {
   "cell_type": "code",
   "execution_count": 64,
   "metadata": {},
   "outputs": [
    {
     "name": "stdout",
     "output_type": "stream",
     "text": [
      "Enter your string: shoaib\n",
      "s = 1\n",
      "h = 1\n",
      "o = 1\n",
      "a = 1\n",
      "i = 1\n",
      "b = 1\n"
     ]
    }
   ],
   "source": [
    "def count_char():\n",
    "    s = str(input('Enter your string: '))\n",
    "    result = {}\n",
    "    for c in s:\n",
    "        if c in result.keys():\n",
    "            result[c] = result[c]  + 1\n",
    "        else:\n",
    "            result[c] = 1\n",
    "    for key,value in result.items():\n",
    "        print(key,'=',value)\n",
    "        \n",
    "#     print(result.values())\n",
    "#     print(result.keys())    \n",
    "#     print(result.items())  \n",
    "#     print(result[c] )\n",
    "count_char()"
   ]
  },
  {
   "cell_type": "markdown",
   "metadata": {},
   "source": [
    "## Reverse the matrix by flipping"
   ]
  },
  {
   "cell_type": "code",
   "execution_count": 32,
   "metadata": {},
   "outputs": [
    {
     "name": "stdout",
     "output_type": "stream",
     "text": [
      "normal reversing: [[6, 5], [4, 3], [2, 1]]\n",
      "reverseing array with numpy:\n",
      "[[6 5]\n",
      " [4 3]\n",
      " [2 1]]\n"
     ]
    }
   ],
   "source": [
    "def reverse_matrix(M):\n",
    "    M.reverse()\n",
    "    for row in M:\n",
    "        row.reverse()\n",
    "matrix=[ [1,2],[3,4], [5,6] ]        \n",
    "reverse_matrix(matrix)\n",
    "print(f'normal reversing: {matrix}')\n",
    "\n",
    "\n",
    "#     ''' OOR'''\n",
    "import numpy as np\n",
    "A =np.array ([ [1,2],\n",
    "               [3,4],\n",
    "               [5,6] ])\n",
    "\n",
    "\n",
    "\n",
    "nummpy = np.flip(A)\n",
    "print(f'reverseing array with numpy:\\n{nummpy}')"
   ]
  },
  {
   "cell_type": "code",
   "execution_count": 82,
   "metadata": {},
   "outputs": [
    {
     "name": "stdout",
     "output_type": "stream",
     "text": [
      "11\n",
      "12\n",
      "13\n"
     ]
    }
   ],
   "source": [
    "#count number of time function called\n",
    "def d(st):\n",
    "    \n",
    "    def inner_f():\n",
    "        nonlocal st\n",
    "        st =st + 1\n",
    "        print(st)\n",
    "    return inner_f\n",
    "a = d(10)\n",
    "a()\n",
    "a()\n",
    "a()"
   ]
  },
  {
   "cell_type": "markdown",
   "metadata": {},
   "source": [
    "## Check if list is subset of other list"
   ]
  },
  {
   "cell_type": "code",
   "execution_count": 72,
   "metadata": {},
   "outputs": [
    {
     "data": {
      "text/plain": [
       "True"
      ]
     },
     "execution_count": 72,
     "metadata": {},
     "output_type": "execute_result"
    }
   ],
   "source": [
    "#subset check is list is subset of other list\n",
    "def check_subset(L1,L2):\n",
    "\n",
    "    for every in L1:\n",
    "        if every not in L2:\n",
    "            return False\n",
    "    return True\n",
    "check_subset([1,2,3,'a'],['a','b',1,2,3,4,5])"
   ]
  },
  {
   "cell_type": "markdown",
   "metadata": {},
   "source": [
    "## check sum of  number in list is eqaul to num"
   ]
  },
  {
   "cell_type": "code",
   "execution_count": 87,
   "metadata": {},
   "outputs": [
    {
     "name": "stdout",
     "output_type": "stream",
     "text": [
      "remove values at index (1, 3) to match sum to num\n"
     ]
    },
    {
     "data": {
      "text/plain": [
       "'Sum of other values equal to: 9'"
      ]
     },
     "execution_count": 87,
     "metadata": {},
     "output_type": "execute_result"
    }
   ],
   "source": [
    "#Number as sum of part of list\n",
    "def check_sum(L1,num):\n",
    "    for i in range(len(L1)):\n",
    "        inter_sum = L1[i]\n",
    "        for j in range(i+1,len(L1)):\n",
    "            inter_sum = inter_sum+L1[j]\n",
    "            if inter_sum == num:\n",
    "                print(f'remove values at index {i,j} to match sum to num')\n",
    "                return f'Sum of other values equal to: {num}'\n",
    "            elif num < inter_sum:\n",
    "                break\n",
    "    print(-1)\n",
    "    return False\n",
    "check_sum([1,2,3,4,5],9)"
   ]
  },
  {
   "cell_type": "code",
   "execution_count": null,
   "metadata": {},
   "outputs": [],
   "source": []
  }
 ],
 "metadata": {
  "kernelspec": {
   "display_name": "Python 3",
   "language": "python",
   "name": "python3"
  },
  "language_info": {
   "codemirror_mode": {
    "name": "ipython",
    "version": 3
   },
   "file_extension": ".py",
   "mimetype": "text/x-python",
   "name": "python",
   "nbconvert_exporter": "python",
   "pygments_lexer": "ipython3",
   "version": "3.8.3"
  }
 },
 "nbformat": 4,
 "nbformat_minor": 4
}
